{
 "cells": [
  {
   "cell_type": "code",
   "execution_count": null,
   "metadata": {},
   "outputs": [],
   "source": [
    "from deepspeech import Model\n",
    "import numpy as np\n",
    "import wave\n",
    "import os\n",
    "from pytube import YouTube\n",
    "import subprocess\n",
    "\n",
    "from IPython.display import Audio"
   ]
  },
  {
   "cell_type": "code",
   "execution_count": null,
   "metadata": {},
   "outputs": [],
   "source": [
    "model_file_path = 'C:/Users/tanis/deepspeech-0.9.3-models.pbmm'\n",
    "lm_file_path = 'C:/Users/tanis/deepspeech-0.9.3-models.scorer'\n",
    "beam_width = 500\n",
    "lm_alpha = 0.93\n",
    "lm_beta = 1.18\n",
    "\n",
    "model = Model(model_file_path)\n",
    "model.enableExternalScorer(lm_file_path)"
   ]
  },
  {
   "cell_type": "code",
   "execution_count": null,
   "metadata": {},
   "outputs": [],
   "source": [
    "def extractAudio(input_file, audio_file_name):\n",
    "    command = \"ffmpeg -hide_banner -loglevel warning -i {} -b:a 192k -ac 1 -ar 16000 -vn {}\".format(input_file, audio_file_name)\n",
    "    try:\n",
    "        ret = subprocess.call(command, shell=True)\n",
    "        print(\"Extracted audio to audio/{}\".format(audio_file_name.split(\"/\")[-1]))\n",
    "    except Exception as e:\n",
    "        print(\"Error: \", str(e))\n",
    "        exit(1)"
   ]
  },
  {
   "cell_type": "code",
   "execution_count": null,
   "metadata": {},
   "outputs": [],
   "source": [
    "def read_wav_file(filename):\n",
    "  with wave.open(filename, 'rb') as w:\n",
    "    rate = w.getframerate()\n",
    "    frames = w.getnframes()\n",
    "    buffer = w.readframes(frames)\n",
    "    print(rate)\n",
    "    print(frames)\n",
    "\n",
    "  return buffer, rate"
   ]
  },
  {
   "cell_type": "code",
   "execution_count": null,
   "metadata": {},
   "outputs": [],
   "source": [
    "def transcribe_audio(audio_file):\n",
    "  buffer, rate = read_wav_file(audio_file)\n",
    "  data16 = np.frombuffer(buffer, dtype=np.int16)\n",
    "  return model.stt(data16)"
   ]
  },
  {
   "cell_type": "code",
   "execution_count": null,
   "metadata": {},
   "outputs": [],
   "source": [
    "def transcribe(url):\n",
    "    video = YouTube(url).streams.filter(progressive = True, res = '360p')\n",
    "    video_path = video.first().download()\n",
    "    os.rename(video_path, video_path.replace(' ', '-'))\n",
    "    new_video_path = video_path.replace(' ', '-')\n",
    "    audio_path = new_video_path.replace(\".mp4\", \"-audio.wav\")\n",
    "    extractAudio(new_video_path, audio_path)\n",
    "    return transcribe_audio(audio_path)"
   ]
  },
  {
   "cell_type": "code",
   "execution_count": null,
   "metadata": {},
   "outputs": [
    {
     "name": "stdout",
     "output_type": "stream",
     "text": [
      "Extracted audio to audio/c:\\Users\\tanis\\OneDrive\\Desktop\\subtitles\\What-Happens-When-You-Go-To-Sleep-High-audio.wav\n",
      "16000\n",
      "3637174\n"
     ]
    },
    {
     "data": {
      "text/plain": [
       "\"there will come to life agin all there's a fog rolling in wait a minute that's not fog people have been using cannabis as asleep aid for decades mainly due to the feeling of relaxation and calm its commonly associated with many believe that i can even help with sleep disorders studies evaluating the effect of cannabis on sleep go back to the seventies but because marijuana use has been illegal in the united states since the thirties research in this field has been largely restricted and we are still lacking verifiable evidence of its effects on help but scientists have been studying its main chemical components for the treatment of many medical issues like the nauseated by cancer treatment seizures and children pain and different sleep disorders before we get into how it affects your sleep we should probably talk about how it all works what we call red hot or marijuana is actually a mixture of the dried flowers of the canopusian it can be smoked taped brooding teas made into food or concentrated into resonance matter how you take it the chemicals in the plant will make their way into your blood stream travel throughout your body and end up in your brain how fast you feel the effects and how strong they are depends on the method of ingestion and your experiences can range from relaxation and euphoria to anxiety fear and panic depending on how much you take and the potency of the drugs active chemicals so it's really really important to be careful with how much your taking and how and canaanite with harmful side effects on brain development and the lungs the main chemical in cannabis is dealt a nine tetrahedral cabin but you can call it to this a psycho active chemical which means i can alter your mind it does this by attaching to neurons in your brain and activating them this disrupt normal mental and physical functions causing the sensations typically associated with a high cannabis contains another chemical that is not psychotic called cannabis older studies looking at the effect of the whole cannabis plant on sleep had mixed findings with some indicating that it can help you fall asleep faster and stay asleep and others showing a con decrease remeet which is thought to be involved with storing memories learning and regulating your mood more recent studies focused on these major chemicals in cannabis th and bed they found that the may only have a short term benefit with continuous use causing a habit or dependency as withdraw from the drug can cause difficulties sleeping studies also found that th cause daytime sleepiness and bad moods increased the time it takes to fall asleep and reduce the body sir cadanet which is needed to regulate your sleep wake cycle however medicines made from it could help with certain disorders like nightmares associated with post traumatic stress disorder and obstructive sleep apia it's clear that more research and needs to be done before any definitive conclusions can be made but until then it may be better to stick with natural sleep methods like avoiding caffeine exercising and keeping a regular sleep schedule so is there another drug you want me to talk about next any sleep related questions you have for me let me know in the common section below curious to know what happens when you go to sleep drunk check out this video general it's not a good idea to use alcohol as a sleep aid since it taught to ultimately lead to restless nights one study found that clinical investigations seem to support a relationship between sleep disturbance and alcohol use as a as mine is black this has been life agendo forget to keep on thinking\""
      ]
     },
     "execution_count": 10,
     "metadata": {},
     "output_type": "execute_result"
    }
   ],
   "source": [
    "transcribe(\"https://www.youtube.com/watch?v=EJ-fmIKVU5k&t=7s\")"
   ]
  },
  {
   "cell_type": "code",
   "execution_count": null,
   "metadata": {},
   "outputs": [],
   "source": []
  }
 ],
 "metadata": {
  "kernelspec": {
   "display_name": "Python 3.9.12 ('tf')",
   "language": "python",
   "name": "python3"
  },
  "language_info": {
   "codemirror_mode": {
    "name": "ipython",
    "version": 3
   },
   "file_extension": ".py",
   "mimetype": "text/x-python",
   "name": "python",
   "nbconvert_exporter": "python",
   "pygments_lexer": "ipython3",
   "version": "3.9.12"
  },
  "orig_nbformat": 4,
  "vscode": {
   "interpreter": {
    "hash": "4fdcca759644de0213434bb631a858a941a778980bdc218fcedf552727f16d98"
   }
  }
 },
 "nbformat": 4,
 "nbformat_minor": 2
}
